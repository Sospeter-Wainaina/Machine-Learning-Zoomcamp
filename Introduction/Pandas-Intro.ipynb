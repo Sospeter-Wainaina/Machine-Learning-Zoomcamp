{
 "cells": [
  {
   "cell_type": "markdown",
   "source": [
    "# Machine Learning Zoomcamp\n",
    "## Introduction to Pandas\n",
    "\n",
    "Plan:\n",
    "* Data Frames\n",
    "* Series\n",
    "* Index\n",
    "* Accessing Elements\n",
    "* Element-Wise Operations\n",
    "* Filtering\n",
    "* String Operations\n",
    "* Summarizing Operations\n",
    "* Missing Values\n",
    "* Grouping\n",
    "* Getting the Numpy arrays\n",
    "\n",
    "To load the pandas package and start working with it, import the package"
   ],
   "metadata": {
    "collapsed": false
   },
   "id": "ad80c6e5ec41c5bb"
  },
  {
   "cell_type": "markdown",
   "source": [
    "![Pandas Table representation](./pandas-table.png)"
   ],
   "metadata": {
    "collapsed": false
   },
   "id": "e6498ac47e903ccd"
  },
  {
   "cell_type": "code",
   "outputs": [],
   "source": [
    "import pandas as pd"
   ],
   "metadata": {
    "collapsed": false
   },
   "id": "de8e3d84eb37b2ec"
  }
 ],
 "metadata": {
  "kernelspec": {
   "display_name": "Python 3",
   "language": "python",
   "name": "python3"
  },
  "language_info": {
   "codemirror_mode": {
    "name": "ipython",
    "version": 2
   },
   "file_extension": ".py",
   "mimetype": "text/x-python",
   "name": "python",
   "nbconvert_exporter": "python",
   "pygments_lexer": "ipython2",
   "version": "2.7.6"
  }
 },
 "nbformat": 4,
 "nbformat_minor": 5
}
