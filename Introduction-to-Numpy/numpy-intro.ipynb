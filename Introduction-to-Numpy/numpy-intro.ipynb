{
 "cells": [
  {
   "cell_type": "markdown",
   "source": [
    "\n",
    "# Machine Learning Zoomcamp\n",
    "\n",
    "### Introduction to Numpy\n",
    "\n",
    "Plan:\n",
    " * Creating Arrays\n",
    " * Multi-dimensional Arrays\n",
    " * Randomly generated arrays\n",
    " * Elementwise operations\n",
    "    * Comparison Operations\n",
    "    * Logical operations\n",
    " * Summarizing operations"
   ],
   "metadata": {
    "collapsed": false
   },
   "id": "5166838d3b226be8"
  },
  {
   "cell_type": "markdown",
   "source": [
    "## NumPy quickstart"
   ],
   "metadata": {
    "collapsed": false
   },
   "id": "48e9f34c9e68439f"
  },
  {
   "cell_type": "markdown",
   "source": [
    "Numpy main object is the homogeneous multi-dimensional array. It is a table of elements mainly numbers all of th same type and indexed by a tuple of non-negative numbers.\n",
    "**Dimensions**- in numpy dimensions are known as axes\n",
    "# Understanding Dimensions in Python Arrays\n",
    "\n",
    "## 1. Introduction to Array Dimensions\n",
    "\n",
    "In Python, array dimensions refer to the number of axes (or levels of depth) in an array structure. Understanding dimensions is crucial for working with data in scientific computing, machine learning, and data analysis.\n",
    "\n",
    "## 2. One-Dimensional Arrays (1D)\n",
    "\n",
    "- Represent a single list of elements\n",
    "- Have one axis\n",
    "- Example: `[1, 2, 3, 4, 5]`\n",
    "- Shape: `(n,)` where `n` is the number of elements\n",
    "\n",
    "## 3. Two-Dimensional Arrays (2D)\n",
    "\n",
    "- Represent a table of elements (rows and columns)\n",
    "- Have two axes\n",
    "- Example:\n",
    "  ```python\n",
    "  [[1, 2, 3],\n",
    "   [4, 5, 6]]\n",
    "  ```\n",
    "- Shape: `(m, n)` where `m` is the number of rows and `n` is the number of columns\n",
    "\n",
    "## 4. Three-Dimensional Arrays (3D)\n",
    "\n",
    "- Represent a cube of elements (stacked 2D arrays)\n",
    "- Have three axes\n",
    "- Example:\n",
    "  ```python\n",
    "  [[[1, 2], [3, 4]],\n",
    "   [[5, 6], [7, 8]]]\n",
    "  ```\n",
    "- Shape: `(l, m, n)` where `l` is the number of 2D arrays, `m` is the number of rows, and `n` is the number of columns\n"
   ],
   "metadata": {
    "collapsed": false
   },
   "id": "189743be267ebfe8"
  },
  {
   "cell_type": "code",
   "outputs": [],
   "source": [
    "#Getting the dimensions of an array\n",
    "import numpy as np\n",
    "import matplotlib.pyplot as plt"
   ],
   "metadata": {
    "collapsed": false,
    "ExecuteTime": {
     "end_time": "2024-09-18T15:19:14.773474Z",
     "start_time": "2024-09-18T15:19:11.307221Z"
    }
   },
   "id": "18d903dfa5e52beb",
   "execution_count": 2
  },
  {
   "cell_type": "code",
   "outputs": [],
   "source": [
    "oned_arr = np.array([1,2,3])\n",
    "twod_arr= np.array([[1, 2, 3],\n",
    "                  [4, 5, 6]])\n",
    "threed_arr=np.array([[[1, 2], [3, 4]],\n",
    "                 [[5, 6], [7, 8]]])"
   ],
   "metadata": {
    "collapsed": false,
    "ExecuteTime": {
     "end_time": "2024-09-18T15:22:31.914488Z",
     "start_time": "2024-09-18T15:22:31.905047Z"
    }
   },
   "id": "d59d41500db3ab1d",
   "execution_count": 4
  },
  {
   "cell_type": "markdown",
   "source": [
    "ndim will output the number of axes (dimensions) of the array."
   ],
   "metadata": {
    "collapsed": false
   },
   "id": "87c1808e8e98ce9"
  },
  {
   "cell_type": "code",
   "outputs": [
    {
     "data": {
      "text/plain": "1"
     },
     "execution_count": 6,
     "metadata": {},
     "output_type": "execute_result"
    }
   ],
   "source": [
    "#ndim method in numpy\n",
    "oned_arr.ndim"
   ],
   "metadata": {
    "collapsed": false,
    "ExecuteTime": {
     "end_time": "2024-09-18T15:23:27.407403Z",
     "start_time": "2024-09-18T15:23:27.374119Z"
    }
   },
   "id": "a633b582f475687",
   "execution_count": 6
  },
  {
   "cell_type": "code",
   "outputs": [
    {
     "data": {
      "text/plain": "2"
     },
     "execution_count": 7,
     "metadata": {},
     "output_type": "execute_result"
    }
   ],
   "source": [
    "twod_arr.ndim"
   ],
   "metadata": {
    "collapsed": false,
    "ExecuteTime": {
     "end_time": "2024-09-18T15:24:12.704306Z",
     "start_time": "2024-09-18T15:24:12.696954Z"
    }
   },
   "id": "b15d8db5b02b8c1b",
   "execution_count": 7
  },
  {
   "cell_type": "code",
   "outputs": [
    {
     "data": {
      "text/plain": "3"
     },
     "execution_count": 8,
     "metadata": {},
     "output_type": "execute_result"
    }
   ],
   "source": [
    "threed_arr.ndim"
   ],
   "metadata": {
    "collapsed": false,
    "ExecuteTime": {
     "end_time": "2024-09-18T15:24:23.847547Z",
     "start_time": "2024-09-18T15:24:23.837654Z"
    }
   },
   "id": "3c5f4657daed8644",
   "execution_count": 8
  },
  {
   "cell_type": "markdown",
   "source": [],
   "metadata": {
    "collapsed": false
   },
   "id": "9f5ebfa58be09106"
  },
  {
   "cell_type": "markdown",
   "source": [
    "### ndarray.shape\n",
    "the dimensions of the array. This is a tuple of integers indicating the size of the array in each dimension. For a matrix with n rows and m columns, shape will be (n,m). The length of the shape tuple is therefore the number of axes, ndim."
   ],
   "metadata": {
    "collapsed": false
   },
   "id": "2f497c92bb2fa8a0"
  },
  {
   "cell_type": "code",
   "outputs": [
    {
     "name": "stdout",
     "output_type": "stream",
     "text": [
      "(3,)\n",
      "(2, 3)\n",
      "(2, 2, 2)\n"
     ]
    }
   ],
   "source": [
    "print(oned_arr.shape)\n",
    "print(twod_arr.shape)\n",
    "print(threed_arr.shape)"
   ],
   "metadata": {
    "collapsed": false,
    "ExecuteTime": {
     "end_time": "2024-09-18T15:26:37.331972Z",
     "start_time": "2024-09-18T15:26:37.318373Z"
    }
   },
   "id": "6969b317813f0161",
   "execution_count": 10
  },
  {
   "cell_type": "markdown",
   "source": [
    "### ndarray.size\n",
    "the total number of elements of the array. This is equal to the product of the elements of shape."
   ],
   "metadata": {
    "collapsed": false
   },
   "id": "28ecbc24da43ce1a"
  },
  {
   "cell_type": "code",
   "outputs": [
    {
     "name": "stdout",
     "output_type": "stream",
     "text": [
      "3\n",
      "6\n",
      "8\n"
     ]
    }
   ],
   "source": [
    "print(oned_arr.size)\n",
    "print(twod_arr.size)\n",
    "print(threed_arr.size)"
   ],
   "metadata": {
    "collapsed": false,
    "ExecuteTime": {
     "end_time": "2024-09-18T15:28:13.062971Z",
     "start_time": "2024-09-18T15:28:13.050544Z"
    }
   },
   "id": "e29ee640cabd7bb7",
   "execution_count": 11
  },
  {
   "cell_type": "markdown",
   "source": [
    "### ndarray.dtype\n",
    "an object describing the type of the elements in the array. "
   ],
   "metadata": {
    "collapsed": false
   },
   "id": "e51bab3d88f3ee60"
  },
  {
   "cell_type": "code",
   "outputs": [
    {
     "name": "stdout",
     "output_type": "stream",
     "text": [
      "int64\n",
      "int64\n",
      "int64\n"
     ]
    }
   ],
   "source": [
    "print(oned_arr.dtype)\n",
    "print(twod_arr.dtype)\n",
    "print(threed_arr.dtype)"
   ],
   "metadata": {
    "collapsed": false,
    "ExecuteTime": {
     "end_time": "2024-09-18T15:29:52.958689Z",
     "start_time": "2024-09-18T15:29:52.946527Z"
    }
   },
   "id": "f7f1558d692c07f1",
   "execution_count": 13
  },
  {
   "cell_type": "code",
   "outputs": [
    {
     "data": {
      "text/plain": "numpy.ndarray"
     },
     "execution_count": 14,
     "metadata": {},
     "output_type": "execute_result"
    }
   ],
   "source": [
    "type(oned_arr)"
   ],
   "metadata": {
    "collapsed": false,
    "ExecuteTime": {
     "end_time": "2024-09-18T15:30:17.627537Z",
     "start_time": "2024-09-18T15:30:17.617798Z"
    }
   },
   "id": "3988558dbf4775d5",
   "execution_count": 14
  },
  {
   "cell_type": "code",
   "outputs": [
    {
     "name": "stdout",
     "output_type": "stream",
     "text": [
      "[[0 1 2]\n",
      " [3 4 5]]\n"
     ]
    }
   ],
   "source": [
    "#Creation of arrays\n",
    "sample_1 = np.arange(6).reshape(2,3)\n",
    "print(sample_1)"
   ],
   "metadata": {
    "collapsed": false,
    "ExecuteTime": {
     "end_time": "2024-09-18T15:33:18.356398Z",
     "start_time": "2024-09-18T15:33:18.349141Z"
    }
   },
   "id": "be516af5b8536c68",
   "execution_count": 17
  },
  {
   "cell_type": "code",
   "outputs": [
    {
     "name": "stdout",
     "output_type": "stream",
     "text": [
      "[[[ 0  1  2]\n",
      "  [ 3  4  5]\n",
      "  [ 6  7  8]\n",
      "  [ 9 10 11]]\n",
      "\n",
      " [[12 13 14]\n",
      "  [15 16 17]\n",
      "  [18 19 20]\n",
      "  [21 22 23]]\n",
      "\n",
      " [[24 25 26]\n",
      "  [27 28 29]\n",
      "  [30 31 32]\n",
      "  [33 34 35]]]\n"
     ]
    }
   ],
   "source": [
    "sample_2 = np.arange(36).reshape(3,4,3)\n",
    "print(sample_2)"
   ],
   "metadata": {
    "collapsed": false,
    "ExecuteTime": {
     "end_time": "2024-09-18T15:35:46.255171Z",
     "start_time": "2024-09-18T15:35:46.245715Z"
    }
   },
   "id": "dc237d92e64aa054",
   "execution_count": 18
  },
  {
   "cell_type": "markdown",
   "source": [
    "### Basic Arithmetic operations\n",
    "Arithmetic operators on arrays apply elementwise. A new array is created and filled with the result."
   ],
   "metadata": {
    "collapsed": false
   },
   "id": "e2b4638b82ebcb8c"
  },
  {
   "cell_type": "code",
   "outputs": [
    {
     "name": "stdout",
     "output_type": "stream",
     "text": [
      "[20 30 40 50]\n",
      "[0 1 2 3]\n"
     ]
    }
   ],
   "source": [
    "a = np.array([20, 30, 40, 50])\n",
    "b = np.arange(4)\n",
    "print(a)\n",
    "print(b)\n"
   ],
   "metadata": {
    "collapsed": false,
    "ExecuteTime": {
     "end_time": "2024-09-18T15:42:44.338322Z",
     "start_time": "2024-09-18T15:42:44.327710Z"
    }
   },
   "id": "55acab57b33f2aab",
   "execution_count": 21
  },
  {
   "cell_type": "code",
   "outputs": [
    {
     "name": "stdout",
     "output_type": "stream",
     "text": [
      "[20 29 38 47]\n"
     ]
    }
   ],
   "source": [
    "c = a - b\n",
    "print(c)\n"
   ],
   "metadata": {
    "collapsed": false,
    "ExecuteTime": {
     "end_time": "2024-09-18T15:43:00.858660Z",
     "start_time": "2024-09-18T15:43:00.851074Z"
    }
   },
   "id": "5dd81c54b7e6eb8f",
   "execution_count": 22
  },
  {
   "cell_type": "code",
   "outputs": [
    {
     "name": "stdout",
     "output_type": "stream",
     "text": [
      "[0 1 4 9]\n"
     ]
    }
   ],
   "source": [
    "print(b**2)\n"
   ],
   "metadata": {
    "collapsed": false,
    "ExecuteTime": {
     "end_time": "2024-09-18T15:43:31.673813Z",
     "start_time": "2024-09-18T15:43:31.666602Z"
    }
   },
   "id": "450384b68bc56e53",
   "execution_count": 24
  },
  {
   "cell_type": "code",
   "outputs": [
    {
     "name": "stdout",
     "output_type": "stream",
     "text": [
      "[ 9.12945251 -9.88031624  7.4511316  -2.62374854]\n",
      "[ True  True False False]\n"
     ]
    }
   ],
   "source": [
    "print(10 * np.sin(a))\n",
    "print(a < 35)"
   ],
   "metadata": {
    "collapsed": false,
    "ExecuteTime": {
     "end_time": "2024-09-18T15:44:09.401873Z",
     "start_time": "2024-09-18T15:44:09.391611Z"
    }
   },
   "id": "f5ba7ceb00e39afb",
   "execution_count": 26
  },
  {
   "cell_type": "markdown",
   "source": [
    "Unlike in many matrix languages, the product operator * operates elementwise in NumPy arrays. The matrix product can be performed using the @ operator (in python >=3.5) or the dot function or method:"
   ],
   "metadata": {
    "collapsed": false
   },
   "id": "3d17396963fe9b4a"
  },
  {
   "cell_type": "code",
   "outputs": [],
   "source": [
    "\n",
    "A = np.array([[1,1],\n",
    "              [0,1]])\n",
    "B = np.array([[2,0],\n",
    "              [3,4]])"
   ],
   "metadata": {
    "collapsed": false,
    "ExecuteTime": {
     "end_time": "2024-09-18T15:52:46.271966Z",
     "start_time": "2024-09-18T15:52:46.265363Z"
    }
   },
   "id": "e3ae20721806b7c4",
   "execution_count": 29
  },
  {
   "cell_type": "code",
   "outputs": [
    {
     "name": "stdout",
     "output_type": "stream",
     "text": [
      "[[2 0]\n",
      " [0 4]]\n"
     ]
    }
   ],
   "source": [
    "# * operator\n",
    "print(A*B)"
   ],
   "metadata": {
    "collapsed": false,
    "ExecuteTime": {
     "end_time": "2024-09-18T15:52:46.998161Z",
     "start_time": "2024-09-18T15:52:46.988144Z"
    }
   },
   "id": "b7b17209499eb339",
   "execution_count": 30
  },
  {
   "cell_type": "code",
   "outputs": [
    {
     "name": "stdout",
     "output_type": "stream",
     "text": [
      "[[5 4]\n",
      " [3 4]]\n"
     ]
    }
   ],
   "source": [
    "print(A@B)"
   ],
   "metadata": {
    "collapsed": false,
    "ExecuteTime": {
     "end_time": "2024-09-18T15:53:01.684597Z",
     "start_time": "2024-09-18T15:53:01.679130Z"
    }
   },
   "id": "9df46c4c4947bde9",
   "execution_count": 31
  },
  {
   "cell_type": "code",
   "outputs": [
    {
     "name": "stdout",
     "output_type": "stream",
     "text": [
      "[[5 4]\n",
      " [3 4]]\n"
     ]
    }
   ],
   "source": [
    "print(A.dot(B))"
   ],
   "metadata": {
    "collapsed": false,
    "ExecuteTime": {
     "end_time": "2024-09-18T15:53:25.230790Z",
     "start_time": "2024-09-18T15:53:25.223947Z"
    }
   },
   "id": "67b2698a5fe1387f",
   "execution_count": 32
  },
  {
   "cell_type": "code",
   "outputs": [
    {
     "name": "stdout",
     "output_type": "stream",
     "text": [
      "[[5 4]\n",
      " [3 4]]\n"
     ]
    }
   ],
   "source": [
    "print(np.dot(A,B))"
   ],
   "metadata": {
    "collapsed": false,
    "ExecuteTime": {
     "end_time": "2024-09-18T15:53:51.858109Z",
     "start_time": "2024-09-18T15:53:51.852235Z"
    }
   },
   "id": "bcb4a55833f48487",
   "execution_count": 34
  },
  {
   "cell_type": "code",
   "outputs": [
    {
     "data": {
      "text/plain": "np.int64(3)"
     },
     "execution_count": 35,
     "metadata": {},
     "output_type": "execute_result"
    }
   ],
   "source": [
    "# Summing all the elements of an array\n",
    "A.sum()"
   ],
   "metadata": {
    "collapsed": false,
    "ExecuteTime": {
     "end_time": "2024-09-18T15:58:22.849338Z",
     "start_time": "2024-09-18T15:58:22.841693Z"
    }
   },
   "id": "a1e29e785f80a646",
   "execution_count": 35
  },
  {
   "cell_type": "code",
   "outputs": [
    {
     "data": {
      "text/plain": "np.int64(9)"
     },
     "execution_count": 36,
     "metadata": {},
     "output_type": "execute_result"
    }
   ],
   "source": [
    "B.sum()"
   ],
   "metadata": {
    "collapsed": false,
    "ExecuteTime": {
     "end_time": "2024-09-18T15:58:48.107636Z",
     "start_time": "2024-09-18T15:58:48.102005Z"
    }
   },
   "id": "7591438417bb10fb",
   "execution_count": 36
  },
  {
   "cell_type": "code",
   "outputs": [
    {
     "data": {
      "text/plain": "np.int64(0)"
     },
     "execution_count": 37,
     "metadata": {},
     "output_type": "execute_result"
    }
   ],
   "source": [
    "A.min()"
   ],
   "metadata": {
    "collapsed": false,
    "ExecuteTime": {
     "end_time": "2024-09-18T15:59:46.281570Z",
     "start_time": "2024-09-18T15:59:46.274357Z"
    }
   },
   "id": "327d587cc0b95cd2",
   "execution_count": 37
  },
  {
   "cell_type": "code",
   "outputs": [
    {
     "data": {
      "text/plain": "np.int64(0)"
     },
     "execution_count": 38,
     "metadata": {},
     "output_type": "execute_result"
    }
   ],
   "source": [
    "B.min()"
   ],
   "metadata": {
    "collapsed": false,
    "ExecuteTime": {
     "end_time": "2024-09-18T15:59:53.714145Z",
     "start_time": "2024-09-18T15:59:53.706332Z"
    }
   },
   "id": "743eeb78b3fb38b0",
   "execution_count": 38
  },
  {
   "cell_type": "markdown",
   "source": [
    "By default, these operations apply to the array as though it were a list of numbers, regardless of its shape. However, by specifying the axis parameter you can apply an operation along the specified axis of an array:"
   ],
   "metadata": {
    "collapsed": false
   },
   "id": "3b726f8c010c39b0"
  },
  {
   "cell_type": "code",
   "outputs": [],
   "source": [
    "b = np.arange(12).reshape(3, 4)"
   ],
   "metadata": {
    "collapsed": false,
    "ExecuteTime": {
     "end_time": "2024-09-18T16:00:46.221073Z",
     "start_time": "2024-09-18T16:00:46.211056Z"
    }
   },
   "id": "80a357137cb45aa6",
   "execution_count": 39
  },
  {
   "cell_type": "code",
   "outputs": [
    {
     "name": "stdout",
     "output_type": "stream",
     "text": [
      "[[ 0  1  2  3]\n",
      " [ 4  5  6  7]\n",
      " [ 8  9 10 11]]\n"
     ]
    }
   ],
   "source": [
    "print(b)"
   ],
   "metadata": {
    "collapsed": false,
    "ExecuteTime": {
     "end_time": "2024-09-18T16:00:52.112793Z",
     "start_time": "2024-09-18T16:00:52.108442Z"
    }
   },
   "id": "c06fc1183844bb95",
   "execution_count": 40
  },
  {
   "cell_type": "code",
   "outputs": [
    {
     "name": "stdout",
     "output_type": "stream",
     "text": [
      "[[0 1]\n",
      " [4 5]\n",
      " [8 9]]\n"
     ]
    }
   ],
   "source": [
    "print(b[0:3,:2])"
   ],
   "metadata": {
    "collapsed": false,
    "ExecuteTime": {
     "end_time": "2024-09-18T16:04:36.417222Z",
     "start_time": "2024-09-18T16:04:36.412792Z"
    }
   },
   "id": "d834a433c18307d3",
   "execution_count": 49
  },
  {
   "cell_type": "code",
   "outputs": [
    {
     "name": "stdout",
     "output_type": "stream",
     "text": [
      "[12 15 18 21]\n"
     ]
    }
   ],
   "source": [
    "#Applying sum on a certain dimension\n",
    "print(b.sum(axis=0))"
   ],
   "metadata": {
    "collapsed": false,
    "ExecuteTime": {
     "end_time": "2024-09-18T16:06:16.572215Z",
     "start_time": "2024-09-18T16:06:16.566809Z"
    }
   },
   "id": "bd08d41815433e88",
   "execution_count": 51
  },
  {
   "cell_type": "code",
   "outputs": [],
   "source": [],
   "metadata": {
    "collapsed": false
   },
   "id": "3286064aba45127d"
  }
 ],
 "metadata": {
  "kernelspec": {
   "display_name": "Python 3",
   "language": "python",
   "name": "python3"
  },
  "language_info": {
   "codemirror_mode": {
    "name": "ipython",
    "version": 2
   },
   "file_extension": ".py",
   "mimetype": "text/x-python",
   "name": "python",
   "nbconvert_exporter": "python",
   "pygments_lexer": "ipython2",
   "version": "2.7.6"
  }
 },
 "nbformat": 4,
 "nbformat_minor": 5
}
